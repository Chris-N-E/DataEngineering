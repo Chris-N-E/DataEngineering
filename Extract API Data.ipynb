{
 "cells": [
  {
   "cell_type": "markdown",
   "metadata": {},
   "source": [
    "# Data Engineer - Extract API Data\n"
   ]
  },
  {
   "cell_type": "markdown",
   "metadata": {},
   "source": [
    "## Objectives\n",
    "\n",
    "-   Collect exchange rate data using an API\n",
    "-   Store the data as a CSV\n"
   ]
  },
  {
   "cell_type": "markdown",
   "metadata": {},
   "source": [
    "For this lab, we are going to be using Python and several Python libraries. \n"
   ]
  },
  {
   "cell_type": "code",
   "execution_count": 1,
   "metadata": {
    "tags": []
   },
   "outputs": [],
   "source": [
    "#!mamba install pandas==1.3.3 -y\n",
    "#!mamba install requests==2.26.0 -y"
   ]
  },
  {
   "cell_type": "markdown",
   "metadata": {},
   "source": [
    "## Imports\n"
   ]
  },
  {
   "cell_type": "code",
   "execution_count": 2,
   "metadata": {
    "tags": []
   },
   "outputs": [],
   "source": [
    "import requests\n",
    "import pandas as pd"
   ]
  },
  {
   "cell_type": "markdown",
   "metadata": {},
   "source": [
    "## Extract Data Using an API\n"
   ]
  },
  {
   "cell_type": "code",
   "execution_count": null,
   "metadata": {},
   "outputs": [],
   "source": []
  },
  {
   "cell_type": "markdown",
   "metadata": {},
   "source": [
    "Using ExchangeRate-API we will extract currency exchange rate data. Use the below steps to get the access key and to get the data. \n",
    "1. Open the url : https://exchangeratesapi.io/ and click on **Get Free API Key**. \n",
    "2. Subscribe for Free plan and Sign-in with the Google Account. \n",
    "3. Once the account is created you will be redirected to https://apilayer.com website.\n",
    "2. Now, click on the **user icon** and click **Account** as shown below:\n",
    "\n",
    "<img src=\"https://cf-courses-data.s3.us.cloud-object-storage.appdomain.cloud/IBMDeveloperSkillsNetwork-PY0221EN-SkillsNetwork/labs/module%206/Final%20Assignment/Images/account.png\">\n",
    "\n",
    "3. Scroll down and you will get the API Key section. Copy the API key and use to call the API below.\n"
   ]
  },
  {
   "cell_type": "markdown",
   "metadata": {},
   "source": [
    "### Call the API\n",
    "\n",
    "Using the `requests` library call the endpoint given above and save the text:\n"
   ]
  },
  {
   "cell_type": "code",
   "execution_count": 11,
   "metadata": {
    "collapsed": true,
    "jupyter": {
     "outputs_hidden": true
    },
    "tags": []
   },
   "outputs": [
    {
     "data": {
      "text/plain": [
       "['        \"AED\": 3.974663,',\n",
       " '        \"AFN\": 95.250021,',\n",
       " '        \"ALL\": 113.401548,',\n",
       " '        \"AMD\": 418.134156,',\n",
       " '        \"ANG\": 1.950207,',\n",
       " '        \"AOA\": 581.028456,',\n",
       " '        \"ARS\": 250.735777,',\n",
       " '        \"AUD\": 1.628117,',\n",
       " '        \"AWG\": 1.949638,',\n",
       " '        \"AZN\": 1.845336,',\n",
       " '        \"BAM\": 1.954103,',\n",
       " '        \"BBD\": 2.184903,',\n",
       " '        \"BDT\": 116.219102,',\n",
       " '        \"BGN\": 1.958004,',\n",
       " '        \"BHD\": 0.407966,',\n",
       " '        \"BIF\": 3052.312462,',\n",
       " '        \"BMD\": 1.08238,',\n",
       " '        \"BND\": 1.453438,',\n",
       " '        \"BOB\": 7.477508,',\n",
       " '        \"BRL\": 5.366981,',\n",
       " '        \"BSD\": 1.082061,',\n",
       " '        \"BTC\": 4.0399953e-05,',\n",
       " '        \"BTN\": 89.199659,',\n",
       " '        \"BWP\": 14.662864,',\n",
       " '        \"BYN\": 2.731329,',\n",
       " '        \"BYR\": 21214.65399,',\n",
       " '        \"BZD\": 2.181206,',\n",
       " '        \"CAD\": 1.46051,',\n",
       " '        \"CDF\": 2498.133879,',\n",
       " '        \"CHF\": 0.973655,',\n",
       " '        \"CLF\": 0.031338,',\n",
       " '        \"CLP\": 864.821885,',\n",
       " '        \"CNY\": 7.572762,',\n",
       " '        \"COP\": 4918.152104,',\n",
       " '        \"CRC\": 577.798371,',\n",
       " '        \"CUC\": 1.08238,',\n",
       " '        \"CUP\": 28.683078,',\n",
       " '        \"CVE\": 110.175367,',\n",
       " '        \"CZK\": 23.677508,',\n",
       " '        \"DJF\": 192.672727,',\n",
       " '        \"DKK\": 7.445337,',\n",
       " '        \"DOP\": 59.018761,',\n",
       " '        \"DZD\": 147.584734,',\n",
       " '        \"EGP\": 33.44598,',\n",
       " '        \"ERN\": 16.235705,',\n",
       " '        \"ETB\": 59.052532,',\n",
       " '        \"EUR\": 1,',\n",
       " '        \"FJD\": 2.401045,',\n",
       " '        \"FKP\": 0.866486,',\n",
       " '        \"GBP\": 0.868101,',\n",
       " '        \"GEL\": 142.619808,',\n",
       " '        \"GGP\": 0.866486,',\n",
       " '        \"GHS\": 11.933287,',\n",
       " '        \"GIP\": 0.866486,',\n",
       " '        \"GMD\": 64.531167,',\n",
       " '        \"GNF\": 9301.924312,',\n",
       " '        \"GTQ\": 8.440672,',\n",
       " '        \"GYD\": 228.8713,',\n",
       " '        \"HKD\": 8.475179,',\n",
       " '        \"HNL\": 26.594911,',\n",
       " '        \"HRK\": 7.516417,',\n",
       " '        \"HTG\": 155.824717,',\n",
       " '        \"HUF\": 370.287722,',\n",
       " '        \"IDR\": 16108.579017,',\n",
       " '        \"ILS\": 3.946483,',\n",
       " '        \"IMP\": 0.866486,',\n",
       " '        \"INR\": 89.226075,',\n",
       " '        \"IQD\": 1417.569303,',\n",
       " '        \"IRR\": 45760.315245,',\n",
       " '        \"ISK\": 151.479118,',\n",
       " '        \"JEP\": 0.866486,',\n",
       " '        \"JMD\": 167.474603,',\n",
       " '        \"JOD\": 0.768577,',\n",
       " '        \"JPY\": 148.690367,',\n",
       " '        \"KES\": 148.430077,',\n",
       " '        \"KGS\": 94.727864,',\n",
       " '        \"KHR\": 4450.136507,',\n",
       " '        \"KMF\": 490.858262,',\n",
       " '        \"KPW\": 974.162528,',\n",
       " '        \"KRW\": 1446.861551,',\n",
       " '        \"KWD\": 0.332377,',\n",
       " '        \"KYD\": 0.901792,',\n",
       " '        \"KZT\": 487.323412,',\n",
       " '        \"LAK\": 19004.500787,',\n",
       " '        \"LBP\": 16242.498686,',\n",
       " '        \"LKR\": 329.753716,',\n",
       " '        \"LRD\": 181.027742,',\n",
       " '        \"LSL\": 20.651836,',\n",
       " '        \"LTL\": 3.195988,',\n",
       " '        \"LVL\": 0.654721,',\n",
       " '        \"LYD\": 5.179503,',\n",
       " '        \"MAD\": 10.978042,',\n",
       " '        \"MDL\": 19.180348,',\n",
       " '        \"MGA\": 4759.867607,',\n",
       " '        \"MKD\": 61.668888,',\n",
       " '        \"MMK\": 2272.427138,',\n",
       " '        \"MNT\": 3767.046841,',\n",
       " '        \"MOP\": 8.724825,',\n",
       " '        \"MRO\": 386.409583,',\n",
       " '        \"MUR\": 49.137362,',\n",
       " '        \"MVR\": 16.614265,',\n",
       " '        \"MWK\": 1113.633173,',\n",
       " '        \"MXN\": 19.059537,',\n",
       " '        \"MYR\": 4.897714,',\n",
       " '        \"MZN\": 68.460945,',\n",
       " '        \"NAD\": 20.651612,',\n",
       " '        \"NGN\": 498.648945,',\n",
       " '        \"NIO\": 39.575641,',\n",
       " '        \"NOK\": 11.699925,',\n",
       " '        \"NPR\": 142.719095,',\n",
       " '        \"NZD\": 1.734401,',\n",
       " '        \"OMR\": 0.416736,',\n",
       " '        \"PAB\": 1.082061,',\n",
       " '        \"PEN\": 3.989237,',\n",
       " '        \"PGK\": 3.826678,',\n",
       " '        \"PHP\": 60.741562,',\n",
       " '        \"PKR\": 308.617966,',\n",
       " '        \"PLN\": 4.5136,',\n",
       " '        \"PYG\": 7773.251465,',\n",
       " '        \"QAR\": 3.940977,',\n",
       " '        \"RON\": 4.96057,',\n",
       " '        \"RSD\": 117.233046,',\n",
       " '        \"RUB\": 86.763254,',\n",
       " '        \"RWF\": 1212.547298,',\n",
       " '        \"SAR\": 4.058895,',\n",
       " '        \"SBD\": 9.005451,',\n",
       " '        \"SCR\": 13.77544,',\n",
       " '        \"SDG\": 649.976056,',\n",
       " '        \"SEK\": 11.322326,',\n",
       " '        \"SGD\": 1.453447,',\n",
       " '        \"SHP\": 1.316986,',\n",
       " '        \"SLE\": 24.722462,',\n",
       " '        \"SLL\": 21377.011252,',\n",
       " '        \"SOS\": 615.874687,',\n",
       " '        \"SRD\": 40.56924,',\n",
       " '        \"STD\": 22403.087009,',\n",
       " '        \"SVC\": 9.468779,',\n",
       " '        \"SYP\": 2719.489252,',\n",
       " '        \"SZL\": 20.79095,',\n",
       " '        \"THB\": 37.124712,',\n",
       " '        \"TJS\": 11.822036,',\n",
       " '        \"TMT\": 3.799155,',\n",
       " '        \"TND\": 3.328343,',\n",
       " '        \"TOP\": 2.55025,',\n",
       " '        \"TRY\": 21.386726,',\n",
       " '        \"TTD\": 7.344624,',\n",
       " '        \"TWD\": 33.315126,',\n",
       " '        \"TZS\": 2553.334855,',\n",
       " '        \"UAH\": 39.966102,',\n",
       " '        \"UGX\": 4030.500824,',\n",
       " '        \"USD\": 1.08238,',\n",
       " '        \"UYU\": 42.163395,',\n",
       " '        \"UZS\": 12393.240511,',\n",
       " '        \"VEF\": 2755345.802425,',\n",
       " '        \"VES\": 27.834319,',\n",
       " '        \"VND\": 25387.230068,',\n",
       " '        \"VUV\": 128.501393,',\n",
       " '        \"WST\": 2.937354,',\n",
       " '        \"XAF\": 655.388009,',\n",
       " '        \"XAG\": 0.045564,',\n",
       " '        \"XAU\": 0.000546,',\n",
       " '        \"XCD\": 2.925187,',\n",
       " '        \"XDR\": 0.804601,',\n",
       " '        \"XOF\": 655.394059,',\n",
       " '        \"XPF\": 119.332775,',\n",
       " '        \"YER\": 270.946872,',\n",
       " '        \"ZAR\": 20.850465,',\n",
       " '        \"ZMK\": 9742.718573,',\n",
       " '        \"ZMW\": 20.100549,',\n",
       " '        \"ZWL\": 348.526017']"
      ]
     },
     "execution_count": 11,
     "metadata": {},
     "output_type": "execute_result"
    }
   ],
   "source": [
    "url = \"https://api.apilayer.com/exchangerates_data/latest?base=EUR&apikey=BuQfZzIR55EFid2FgY5dZGMuRXF52zjs\" \n",
    "html_data = requests.get(url).text\n",
    "\n",
    "data = str(html_data).splitlines()[6:-2]\n",
    "data\n",
    "\n"
   ]
  },
  {
   "cell_type": "markdown",
   "metadata": {
    "tags": []
   },
   "source": [
    "### Save as DataFrame\n",
    "\n",
    "Using the data gathered, turn it into a `pandas` dataframe. The dataframe should have the Currency as the index and `Rate` as their columns. Make sure to drop unnecessary columns.\n"
   ]
  },
  {
   "cell_type": "code",
   "execution_count": 16,
   "metadata": {
    "tags": []
   },
   "outputs": [
    {
     "data": {
      "text/html": [
       "<div>\n",
       "<style scoped>\n",
       "    .dataframe tbody tr th:only-of-type {\n",
       "        vertical-align: middle;\n",
       "    }\n",
       "\n",
       "    .dataframe tbody tr th {\n",
       "        vertical-align: top;\n",
       "    }\n",
       "\n",
       "    .dataframe thead th {\n",
       "        text-align: right;\n",
       "    }\n",
       "</style>\n",
       "<table border=\"1\" class=\"dataframe\">\n",
       "  <thead>\n",
       "    <tr style=\"text-align: right;\">\n",
       "      <th></th>\n",
       "      <th>Rate</th>\n",
       "    </tr>\n",
       "    <tr>\n",
       "      <th>Currency</th>\n",
       "      <th></th>\n",
       "    </tr>\n",
       "  </thead>\n",
       "  <tbody>\n",
       "    <tr>\n",
       "      <th>AED</th>\n",
       "      <td>3.974663</td>\n",
       "    </tr>\n",
       "    <tr>\n",
       "      <th>AFN</th>\n",
       "      <td>95.250021</td>\n",
       "    </tr>\n",
       "    <tr>\n",
       "      <th>ALL</th>\n",
       "      <td>113.401548</td>\n",
       "    </tr>\n",
       "    <tr>\n",
       "      <th>AMD</th>\n",
       "      <td>418.134156</td>\n",
       "    </tr>\n",
       "    <tr>\n",
       "      <th>ANG</th>\n",
       "      <td>1.950207</td>\n",
       "    </tr>\n",
       "  </tbody>\n",
       "</table>\n",
       "</div>"
      ],
      "text/plain": [
       "                 Rate\n",
       "Currency             \n",
       "AED          3.974663\n",
       "AFN         95.250021\n",
       "ALL        113.401548\n",
       "AMD        418.134156\n",
       "ANG          1.950207"
      ]
     },
     "execution_count": 16,
     "metadata": {},
     "output_type": "execute_result"
    }
   ],
   "source": [
    "# Turn the data into a dataframe\n",
    "currency_data = pd.DataFrame(columns=[\"Currency\", \"Rate\"])\n",
    "\n",
    "for row in data:\n",
    "    col = row.split(\":\")\n",
    "    Currency = col[0].strip()[1:-1]\n",
    "    Rates = col[1].replace(\",\",\"\")\n",
    "                \n",
    "    currency_data = currency_data.append({\"Currency\":Currency,\"Rate\":Rates},ignore_index=True)\n",
    "\n",
    "currency_data.set_index(\"Currency\", inplace = True)\n",
    "currency_data.head()"
   ]
  },
  {
   "cell_type": "code",
   "execution_count": 25,
   "metadata": {
    "tags": []
   },
   "outputs": [
    {
     "data": {
      "text/html": [
       "<div>\n",
       "<style scoped>\n",
       "    .dataframe tbody tr th:only-of-type {\n",
       "        vertical-align: middle;\n",
       "    }\n",
       "\n",
       "    .dataframe tbody tr th {\n",
       "        vertical-align: top;\n",
       "    }\n",
       "\n",
       "    .dataframe thead th {\n",
       "        text-align: right;\n",
       "    }\n",
       "</style>\n",
       "<table border=\"1\" class=\"dataframe\">\n",
       "  <thead>\n",
       "    <tr style=\"text-align: right;\">\n",
       "      <th></th>\n",
       "      <th>Rate</th>\n",
       "    </tr>\n",
       "  </thead>\n",
       "  <tbody>\n",
       "    <tr>\n",
       "      <th>AED</th>\n",
       "      <td>3.974663</td>\n",
       "    </tr>\n",
       "    <tr>\n",
       "      <th>AFN</th>\n",
       "      <td>95.250021</td>\n",
       "    </tr>\n",
       "    <tr>\n",
       "      <th>ALL</th>\n",
       "      <td>113.401548</td>\n",
       "    </tr>\n",
       "    <tr>\n",
       "      <th>AMD</th>\n",
       "      <td>418.134156</td>\n",
       "    </tr>\n",
       "    <tr>\n",
       "      <th>ANG</th>\n",
       "      <td>1.950207</td>\n",
       "    </tr>\n",
       "  </tbody>\n",
       "</table>\n",
       "</div>"
      ],
      "text/plain": [
       "            Rate\n",
       "AED     3.974663\n",
       "AFN    95.250021\n",
       "ALL   113.401548\n",
       "AMD   418.134156\n",
       "ANG     1.950207"
      ]
     },
     "execution_count": 25,
     "metadata": {},
     "output_type": "execute_result"
    }
   ],
   "source": [
    "# Drop unnescessary columns\n",
    "\n",
    "currency_data.index.name # Returns index name\n",
    "currency_data.rename_axis(None, inplace=True) # Set the name of the axis for the index to None\n",
    "currency_data.head()"
   ]
  },
  {
   "cell_type": "markdown",
   "metadata": {},
   "source": [
    "### Load the Data\n",
    "\n",
    "Using the dataframe save it as a CSV names `exchange_rates_1.csv`.\n"
   ]
  },
  {
   "cell_type": "code",
   "execution_count": 26,
   "metadata": {
    "tags": []
   },
   "outputs": [],
   "source": [
    "# Save the Dataframe\n",
    "currency_data.to_csv(\"exchange_rates_1.csv\")"
   ]
  },
  {
   "cell_type": "markdown",
   "metadata": {},
   "source": [
    "Your CSV should be in this format with more currencies\n",
    "\n",
    "| | Rates |\n",
    "| ------- | ------- |\n",
    "|  AED| 4.398618    |\n",
    "|  AFN| 92.917693   |  \n",
    "|  ALL| 123.099093  |\n",
    "|  AMD| 621.935674  |\n",
    "|  ANG| 2.149648    | \n"
   ]
  }
 ],
 "metadata": {
  "kernelspec": {
   "display_name": "Python 3 (ipykernel)",
   "language": "python",
   "name": "python3"
  },
  "language_info": {
   "codemirror_mode": {
    "name": "ipython",
    "version": 3
   },
   "file_extension": ".py",
   "mimetype": "text/x-python",
   "name": "python",
   "nbconvert_exporter": "python",
   "pygments_lexer": "ipython3",
   "version": "3.9.7"
  }
 },
 "nbformat": 4,
 "nbformat_minor": 4
}
